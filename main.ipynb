{
 "cells": [
  {
   "cell_type": "code",
   "execution_count": 1,
   "metadata": {
    "collapsed": true
   },
   "outputs": [
    {
     "name": "stderr",
     "output_type": "stream",
     "text": [
      "2022-12-14 10:56:22.871515: I tensorflow/core/platform/cpu_feature_guard.cc:193] This TensorFlow binary is optimized with oneAPI Deep Neural Network Library (oneDNN) to use the following CPU instructions in performance-critical operations:  AVX2 AVX512F AVX512_VNNI FMA\n",
      "To enable them in other operations, rebuild TensorFlow with the appropriate compiler flags.\n",
      "2022-12-14 10:56:23.189184: I tensorflow/core/util/port.cc:104] oneDNN custom operations are on. You may see slightly different numerical results due to floating-point round-off errors from different computation orders. To turn them off, set the environment variable `TF_ENABLE_ONEDNN_OPTS=0`.\n",
      "2022-12-14 10:56:24.141798: W tensorflow/compiler/xla/stream_executor/platform/default/dso_loader.cc:64] Could not load dynamic library 'libnvinfer.so.7'; dlerror: libnvinfer.so.7: cannot open shared object file: No such file or directory\n",
      "2022-12-14 10:56:24.141857: W tensorflow/compiler/xla/stream_executor/platform/default/dso_loader.cc:64] Could not load dynamic library 'libnvinfer_plugin.so.7'; dlerror: libnvinfer_plugin.so.7: cannot open shared object file: No such file or directory\n",
      "2022-12-14 10:56:24.141862: W tensorflow/compiler/tf2tensorrt/utils/py_utils.cc:38] TF-TRT Warning: Cannot dlopen some TensorRT libraries. If you would like to use Nvidia GPU with TensorRT, please make sure the missing libraries mentioned above are installed properly.\n"
     ]
    }
   ],
   "source": [
    "from sentence_transformers import SentenceTransformer\n",
    "import random\n",
    "import torch\n",
    "import numpy as np\n",
    "from models import Finbank\n",
    "from property_matching import PropertyMatcher\n",
    "from tqdm.auto import tqdm\n",
    "import matplotlib.pyplot as plt\n",
    "torch.manual_seed(0)\n",
    "random.seed(0)\n",
    "np.random.seed(0)"
   ]
  },
  {
   "cell_type": "markdown",
   "source": [
    "Download embeddings in:\n",
    "http://dl.turkunlp.org/finnish-embeddings/"
   ],
   "metadata": {
    "collapsed": false
   }
  },
  {
   "cell_type": "code",
   "execution_count": 2,
   "outputs": [],
   "source": [
    "wm = Finbank('/home/guilherme/Documents/kg/fin.bin')\n",
    "model = SentenceTransformer('sentence-transformers/all-MiniLM-L6-v2')\n",
    "property_matcher = PropertyMatcher(wm, model)"
   ],
   "metadata": {
    "collapsed": false
   }
  },
  {
   "cell_type": "code",
   "execution_count": 3,
   "outputs": [
    {
     "name": "stdout",
     "output_type": "stream",
     "text": [
      "----------------------------------------------------------------------------------------------------\n",
      "Conference.owl iasted.owl\n",
      "Loading o1\n",
      "Loading o2\n",
      "# Person contributes Conference_document <> Person write Item\n",
      "ontology iterations: 5248, (0, 0.0, 0.0), aligns: 1, po1: 64, po2: 41\n",
      "----------------------------------------------------------------------------------------------------\n",
      "ekaw.owl iasted.owl\n",
      "Loading o1\n",
      "Loading o2\n",
      "ontology iterations: 1804, (0, 0, 0.0), aligns: 0, po1: 22, po2: 41\n",
      "----------------------------------------------------------------------------------------------------\n",
      "cmt.owl Conference.owl\n",
      "Loading o1\n",
      "Loading o2\n",
      "# Person email string <> Person has_an_email string\n",
      "# ExternalReviewer assignedByReviewer Reviewer <> Reviewer invited_by Reviewer\n",
      "# Reviewer assignExternalReviewer ExternalReviewer <> Reviewer invites_co-reviewers Reviewer\n",
      "✓ email has_an_email\n",
      "X Conference hasConferenceMember ConferenceMember <> Committee has_members Committee_member\n",
      "X ConferenceMember memberOfConference Conference <> Committee_member was_a_member_of Committee\n",
      "ontology iterations: 7552, (0.3333333333333333, 0.3333333333333333, 0.3333333333333333), aligns: 3, po1: 59, po2: 64\n",
      "----------------------------------------------------------------------------------------------------\n",
      "cmt.owl iasted.owl\n",
      "Loading o1\n",
      "Loading o2\n",
      "ontology iterations: 4838, (0, 0, 0.0), aligns: 0, po1: 59, po2: 41\n",
      "----------------------------------------------------------------------------------------------------\n",
      "confOf.owl ekaw.owl\n",
      "Loading o1\n",
      "Loading o2\n",
      "ontology iterations: 1584, (0, 0, 0.0), aligns: 0, po1: 36, po2: 22\n",
      "----------------------------------------------------------------------------------------------------\n",
      "edas.owl ekaw.owl\n",
      "Loading o1\n",
      "Loading o2\n",
      "# Paper isReviewedBy N0278eae1ce81426b996e5c116081cc1c <> Paper hasReviewer Possible_Reviewer\n",
      "# Place isLocationOf ConferenceEvent <> Location locationOf Event\n",
      "# Nc06b05fb9ee64fd4841233912a7bc36e isReviewing Paper <> Possible_Reviewer reviewerOfPaper Paper\n",
      "# ConferenceEvent hasLocation Place <> Event heldIn Location\n",
      "✓ isLocationOf locationOf\n",
      "✓ hasLocation heldIn\n",
      "ontology iterations: 2200, (1.0, 0.5, 0.6666666666666666), aligns: 4, po1: 50, po2: 22\n",
      "----------------------------------------------------------------------------------------------------\n",
      "confOf.owl iasted.owl\n",
      "Loading o1\n",
      "Loading o2\n",
      "ontology iterations: 2952, (0, 0, 0.0), aligns: 0, po1: 36, po2: 41\n",
      "----------------------------------------------------------------------------------------------------\n",
      "Conference.owl ekaw.owl\n",
      "Loading o1\n",
      "Loading o2\n",
      "# Reviewed_contribution has_a_review Review <> Paper hasReview Review\n",
      "# Person contributes Conference_document <> Person authorOf Document\n",
      "ontology iterations: 2816, (0, 0.0, 0.0), aligns: 2, po1: 64, po2: 22\n",
      "----------------------------------------------------------------------------------------------------\n",
      "cmt.owl ekaw.owl\n",
      "Loading o1\n",
      "Loading o2\n",
      "# Review writtenBy Reviewer <> Review reviewWrittenBy Possible_Reviewer\n",
      "# Paper assignedTo Reviewer <> Paper hasReviewer Possible_Reviewer\n",
      "# Reviewer hasBeenAssigned Paper <> Possible_Reviewer reviewerOfPaper Paper\n",
      "✓ assignedTo hasReviewer\n",
      "✓ writtenBy reviewWrittenBy\n",
      "✓ hasBeenAssigned reviewerOfPaper\n",
      "ontology iterations: 2596, (1.0, 1.0, 1.0), aligns: 3, po1: 59, po2: 22\n",
      "----------------------------------------------------------------------------------------------------\n",
      "edas.owl iasted.owl\n",
      "Loading o1\n",
      "Loading o2\n",
      "ontology iterations: 4100, (0, 0, 0.0), aligns: 0, po1: 50, po2: 41\n",
      "----------------------------------------------------------------------------------------------------\n",
      "edas.owl sigkdd.owl\n",
      "Loading o1\n",
      "Loading o2\n",
      "# Sponsorship hasCostAmount int <> Registration_fee Price int\n",
      "# Conference startDate dateTime <> Conference Start_of_conference dateTime\n",
      "# Conference endDate dateTime <> Conference End_of_conference dateTime\n",
      "# Conference hasName string <> Conference Name_of_conference string\n",
      "✓ startDate Start_of_conference\n",
      "✓ endDate End_of_conference\n",
      "X Conference hasName string <> Person Name string\n",
      "ontology iterations: 2600, (0.6666666666666666, 0.5, 0.5714285714285715), aligns: 4, po1: 50, po2: 26\n",
      "----------------------------------------------------------------------------------------------------\n",
      "cmt.owl confOf.owl\n",
      "Loading o1\n",
      "Loading o2\n",
      "# Paper title string <> Contribution hasTitle string\n",
      "# Paper hasAuthor Author <> Contribution writtenBy Author\n",
      "# Author writePaper Paper <> Author writes Contribution\n",
      "# Person email string <> Person hasEmail string\n",
      "# Reviewer hasBeenAssigned Paper <> Member_PC reviewes Contribution\n",
      "# Paper hasSubjectArea SubjectArea <> Contribution dealsWith Topic\n",
      "✓ email hasEmail\n",
      "✓ title hasTitle\n",
      "✓ writePaper writes\n",
      "✓ hasAuthor writtenBy\n",
      "ontology iterations: 4248, (1.0, 0.6666666666666666, 0.8), aligns: 6, po1: 59, po2: 36\n",
      "----------------------------------------------------------------------------------------------------\n",
      "confOf.owl sigkdd.owl\n",
      "Loading o1\n",
      "Loading o2\n",
      "# Person hasEmail string <> Person E-mail string\n",
      "✓ hasEmail E-mail\n",
      "X Person hasFirstName string <> Person Name string\n",
      "ontology iterations: 1872, (0.5, 1.0, 0.6666666666666666), aligns: 1, po1: 36, po2: 26\n",
      "----------------------------------------------------------------------------------------------------\n",
      "ekaw.owl sigkdd.owl\n",
      "Loading o1\n",
      "Loading o2\n",
      "ontology iterations: 1144, (0, 0, 0.0), aligns: 0, po1: 22, po2: 26\n",
      "----------------------------------------------------------------------------------------------------\n",
      "cmt.owl sigkdd.owl\n",
      "Loading o1\n",
      "Loading o2\n",
      "# Author submitPaper Paper <> Author submit Paper\n",
      "# Person email string <> Person E-mail string\n",
      "✓ submitPaper submit\n",
      "✓ email E-mail\n",
      "ontology iterations: 3068, (1.0, 1.0, 1.0), aligns: 2, po1: 59, po2: 26\n",
      "----------------------------------------------------------------------------------------------------\n",
      "Conference.owl edas.owl\n",
      "Loading o1\n",
      "Loading o2\n",
      "# Submitted_contribution has_a_review_expertise Review_expertise <> ActivePaper hasRating ReviewRating\n",
      "# Person has_the_first_name string <> Person hasFirstName string\n",
      "# Person has_the_last_name string <> Person hasLastName string\n",
      "✓ has_the_first_name hasFirstName\n",
      "✓ has_the_last_name hasLastName\n",
      "ontology iterations: 6400, (1.0, 0.6666666666666666, 0.8), aligns: 3, po1: 64, po2: 50\n",
      "----------------------------------------------------------------------------------------------------\n",
      "cmt.owl edas.owl\n",
      "Loading o1\n",
      "Loading o2\n",
      "# ConferenceMember memberOfConference Conference <> Person isMemberOf Conference\n",
      "# Conference hasConferenceMember ConferenceMember <> Conference hasMember Person\n",
      "# Reviewer hasBeenAssigned Paper <> Ne36e6731ec474ee6b276e0f2b62e69b4 isReviewing Paper\n",
      "# Paper assignedTo Reviewer <> Paper isReviewedBy N8c9e4c9469d9468484b7dc4fabe773c3\n",
      "# Paper hasAuthor Author <> Paper isWrittenBy Author\n",
      "✓ hasAuthor isWrittenBy\n",
      "X Author writePaper Paper <> Author hasRelatedPaper Paper\n",
      "ontology iterations: 5900, (0.5, 0.2, 0.28571428571428575), aligns: 5, po1: 59, po2: 50\n",
      "----------------------------------------------------------------------------------------------------\n",
      "iasted.owl sigkdd.owl\n",
      "Loading o1\n",
      "Loading o2\n",
      "ontology iterations: 2132, (0, 0, 0.0), aligns: 0, po1: 41, po2: 26\n",
      "----------------------------------------------------------------------------------------------------\n",
      "Conference.owl sigkdd.owl\n",
      "Loading o1\n",
      "Loading o2\n",
      "# Active_conference_participant gives_presentations Presentation <> Speaker presentation Document\n",
      "# Presentation is_given_by Active_conference_participant <> Document presentationed_by Speaker\n",
      "# Person has_an_email string <> Person E-mail string\n",
      "✓ has_an_email E-mail\n",
      "ontology iterations: 3328, (1.0, 0.3333333333333333, 0.5), aligns: 3, po1: 64, po2: 26\n",
      "----------------------------------------------------------------------------------------------------\n",
      "confOf.owl edas.owl\n",
      "Loading o1\n",
      "Loading o2\n",
      "# Person hasSurname string <> Person hasLastName string\n",
      "# Person hasFirstName string <> Person hasFirstName string\n",
      "# Contribution writtenBy Author <> Paper isWrittenBy Author\n",
      "# Author writes Contribution <> Author hasRelatedPaper Paper\n",
      "# Member_PC reviewes Contribution <> N63663e5e1fb74750af4a838090b87d5c isReviewing Paper\n",
      "✓ writtenBy isWrittenBy\n",
      "✓ hasFirstName hasFirstName\n",
      "✓ writes hasRelatedPaper\n",
      "ontology iterations: 3600, (1.0, 0.6, 0.7499999999999999), aligns: 5, po1: 36, po2: 50\n",
      "----------------------------------------------------------------------------------------------------\n",
      "Conference.owl confOf.owl\n",
      "Loading o1\n",
      "Loading o2\n",
      "# Person has_the_first_name string <> Person hasFirstName string\n",
      "# Person has_an_email string <> Person hasEmail string\n",
      "# Person has_the_last_name string <> Person hasSurname string\n",
      "# Conference_part has_a_track-workshop-tutorial_topic Topic <> Working_event hasTopic Topic\n",
      "✓ has_an_email hasEmail\n",
      "✓ has_the_first_name hasFirstName\n",
      "ontology iterations: 4608, (1.0, 0.5, 0.6666666666666666), aligns: 4, po1: 64, po2: 36\n",
      "iterations: 74590, (0.8275862068965517, 0.5217391304347826, 0.64)\n"
     ]
    },
    {
     "data": {
      "text/plain": "(0.8275862068965517, 0.5217391304347826, 0.64)"
     },
     "execution_count": 3,
     "metadata": {},
     "output_type": "execute_result"
    }
   ],
   "source": [
    "property_matcher.match('/home/guilherme/Documents/kg/conference', '/home/guilherme/Documents/kg/reference')"
   ],
   "metadata": {
    "collapsed": false
   }
  },
  {
   "cell_type": "code",
   "execution_count": 3,
   "outputs": [
    {
     "name": "stdout",
     "output_type": "stream",
     "text": [
      "----------------------------------------------------------------------------------------------------\n",
      "starwars.xml swtor.xml\n",
      "Loading o1\n",
      "Loading o2\n",
      "56\n",
      "ontology iterations: 253638, (0.2918918918918919, 0.9642857142857143, 0.44813278008298757), aligns: 56, po1: 693, po2: 366\n",
      "----------------------------------------------------------------------------------------------------\n",
      "memoryalpha.xml stexpand.xml\n",
      "Loading o1\n",
      "Loading o2\n",
      "40\n",
      "ontology iterations: 62080, (0.31932773109243695, 0.95, 0.4779874213836478), aligns: 40, po1: 320, po2: 194\n",
      "----------------------------------------------------------------------------------------------------\n",
      "starwars.xml swg.xml\n",
      "Loading o1\n",
      "Loading o2\n",
      "20\n",
      "ontology iterations: 100485, (0.20618556701030927, 1.0, 0.3418803418803419), aligns: 20, po1: 693, po2: 145\n",
      "----------------------------------------------------------------------------------------------------\n",
      "mcu.xml marvel.xml\n",
      "Loading o1\n",
      "Loading o2\n",
      "11\n",
      "ontology iterations: 19575, (0.21739130434782608, 0.9090909090909091, 0.3508771929824562), aligns: 11, po1: 145, po2: 135\n",
      "----------------------------------------------------------------------------------------------------\n",
      "memoryalpha.xml memorybeta.xml\n",
      "Loading o1\n",
      "Loading o2\n",
      "51\n",
      "ontology iterations: 129600, (0.2911392405063291, 0.9019607843137255, 0.44019138755980863), aligns: 51, po1: 320, po2: 405\n",
      "iterations: 565378, (0.27768595041322314, 0.9438202247191011, 0.42911877394636017)\n"
     ]
    },
    {
     "data": {
      "text/plain": "(0.27768595041322314, 0.9438202247191011, 0.42911877394636017)"
     },
     "execution_count": 3,
     "metadata": {},
     "output_type": "execute_result"
    }
   ],
   "source": [
    "from property_matching import extract_freq\n",
    "\n",
    "property_matcher.match('/home/guilherme/Documents/kg/knowledge', '/home/guilherme/Documents/kg/know-reference',\n",
    "                       th=0.0, process_strategy=extract_freq, sim_weights=[1], steps=1)"
   ],
   "metadata": {
    "collapsed": false
   }
  },
  {
   "cell_type": "code",
   "execution_count": null,
   "outputs": [],
   "source": [
    "from property_matching import extract_freq\n",
    "\n",
    "property_matcher.match('/home/guilherme/Documents/kg/knowledge', '/home/guilherme/Documents/kg/know-reference', th=0.0, process_strategy=extract_freq)"
   ],
   "metadata": {
    "collapsed": false
   }
  },
  {
   "cell_type": "code",
   "execution_count": 3,
   "outputs": [
    {
     "data": {
      "text/plain": "  0%|          | 0/20 [00:00<?, ?it/s]",
      "application/vnd.jupyter.widget-view+json": {
       "version_major": 2,
       "version_minor": 0,
       "model_id": "c98e11b5bcf3448c9a93cf17390ed3d0"
      }
     },
     "metadata": {},
     "output_type": "display_data"
    },
    {
     "ename": "NameError",
     "evalue": "name 'property_matcher' is not defined",
     "output_type": "error",
     "traceback": [
      "\u001B[0;31m---------------------------------------------------------------------------\u001B[0m",
      "\u001B[0;31mNameError\u001B[0m                                 Traceback (most recent call last)",
      "Cell \u001B[0;32mIn[3], line 4\u001B[0m\n\u001B[1;32m      1\u001B[0m res \u001B[38;5;241m=\u001B[39m []\n\u001B[1;32m      3\u001B[0m \u001B[38;5;28;01mfor\u001B[39;00m th \u001B[38;5;129;01min\u001B[39;00m tqdm(np\u001B[38;5;241m.\u001B[39marange(\u001B[38;5;241m0\u001B[39m, \u001B[38;5;241m1\u001B[39m, \u001B[38;5;241m0.05\u001B[39m)):\n\u001B[0;32m----> 4\u001B[0m     res\u001B[38;5;241m.\u001B[39mappend(\u001B[43mproperty_matcher\u001B[49m\u001B[38;5;241m.\u001B[39mmatch(\u001B[38;5;124m'\u001B[39m\u001B[38;5;124m/projets/melodi/gsantoss/data/conference\u001B[39m\u001B[38;5;124m'\u001B[39m, \u001B[38;5;124m'\u001B[39m\u001B[38;5;124m/projets/melodi/gsantoss/data/reference\u001B[39m\u001B[38;5;124m'\u001B[39m, th))\n",
      "\u001B[0;31mNameError\u001B[0m: name 'property_matcher' is not defined"
     ]
    }
   ],
   "source": [
    "res = []\n",
    "\n",
    "for th in tqdm(np.arange(0, 1, 0.05)):\n",
    "    res.append(property_matcher.match('/projets/melodi/gsantoss/data/conference', '/projets/melodi/gsantoss/data/reference', th))"
   ],
   "metadata": {
    "collapsed": false
   }
  },
  {
   "cell_type": "code",
   "execution_count": null,
   "outputs": [],
   "source": [
    "\n",
    "plt.plot(np.arange(0, 1, 0.05), list(map(lambda x: x[0], res)), label=\"precision\")\n",
    "plt.plot(np.arange(0, 1, 0.05), list(map(lambda x: x[1], res)), label=\"recall\")\n",
    "plt.plot(np.arange(0, 1, 0.05), list(map(lambda x: x[2], res)), label=\"f-measure\")\n",
    "plt.legend()\n",
    "plt.xlabel('Threshold')\n",
    "plt.savefig('prop.png', dpi=300)\n",
    "plt.show()\n"
   ],
   "metadata": {
    "collapsed": false
   }
  }
 ],
 "metadata": {
  "kernelspec": {
   "display_name": "Python 3",
   "language": "python",
   "name": "python3"
  },
  "language_info": {
   "codemirror_mode": {
    "name": "ipython",
    "version": 2
   },
   "file_extension": ".py",
   "mimetype": "text/x-python",
   "name": "python",
   "nbconvert_exporter": "python",
   "pygments_lexer": "ipython2",
   "version": "2.7.6"
  }
 },
 "nbformat": 4,
 "nbformat_minor": 0
}
