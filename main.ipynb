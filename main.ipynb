{
 "cells": [
  {
   "cell_type": "code",
   "execution_count": 1,
   "metadata": {
    "ExecuteTime": {
     "end_time": "2023-05-05T16:58:30.285996286Z",
     "start_time": "2023-05-05T16:58:27.520729058Z"
    }
   },
   "outputs": [],
   "source": [
    "from sentence_transformers import SentenceTransformer\n",
    "from models import Finbank\n",
    "import random\n",
    "import torch\n",
    "import numpy as np\n",
    "from property_matching import PropertyMatcher\n",
    "from tqdm.auto import tqdm\n",
    "from property_matching import most_common_pair\n",
    "import matplotlib.pyplot as plt\n",
    "torch.manual_seed(0)\n",
    "random.seed(0)\n",
    "np.random.seed(0)"
   ]
  },
  {
   "cell_type": "markdown",
   "metadata": {},
   "source": [
    "Download embeddings in:\n",
    "http://dl.turkunlp.org/finnish-embeddings/"
   ]
  },
  {
   "cell_type": "code",
   "execution_count": 2,
   "metadata": {
    "ExecuteTime": {
     "end_time": "2023-05-05T16:58:33.643656486Z",
     "start_time": "2023-05-05T16:58:30.289546804Z"
    }
   },
   "outputs": [],
   "source": [
    "wm = Finbank('/home/guilherme/Documents/kg/fin.bin')\n",
    "model = SentenceTransformer('sentence-transformers/all-MiniLM-L6-v2')\n",
    "property_matcher = PropertyMatcher(wm, model)"
   ]
  },
  {
   "cell_type": "code",
   "execution_count": 20,
   "metadata": {
    "ExecuteTime": {
     "end_time": "2023-05-04T23:11:23.647059226Z",
     "start_time": "2023-05-04T23:08:45.535290656Z"
    }
   },
   "outputs": [
    {
     "data": {
      "application/vnd.jupyter.widget-view+json": {
       "model_id": "dc8966ab2d924576890dd6f0598da481",
       "version_major": 2,
       "version_minor": 0
      },
      "text/plain": [
       "  0%|          | 0/21 [00:00<?, ?it/s]"
      ]
     },
     "metadata": {},
     "output_type": "display_data"
    },
    {
     "name": "stdout",
     "output_type": "stream",
     "text": [
      "----------------------------------------------------------------------------------------------------\n",
      "Conference.owl iasted.owl\n",
      "Loading o1\n",
      "Loading o2\n",
      "1\n",
      "ontology iterations: 5248, (0, 0.0, 0.0), aligns: 1, po1: 64, po2: 41\n",
      "----------------------------------------------------------------------------------------------------\n",
      "ekaw.owl iasted.owl\n",
      "Loading o1\n",
      "Loading o2\n",
      "0\n",
      "ontology iterations: 1804, (0.0, 0, 0.0), aligns: 0, po1: 22, po2: 41\n",
      "----------------------------------------------------------------------------------------------------\n",
      "cmt.owl Conference.owl\n",
      "Loading o1\n",
      "Loading o2\n",
      "3\n",
      "ontology iterations: 7552, (0.25, 0.3333333333333333, 0.28571428571428575), aligns: 3, po1: 59, po2: 64\n",
      "----------------------------------------------------------------------------------------------------\n",
      "cmt.owl iasted.owl\n",
      "Loading o1\n",
      "Loading o2\n",
      "0\n",
      "ontology iterations: 4838, (0, 0, 0.0), aligns: 0, po1: 59, po2: 41\n",
      "----------------------------------------------------------------------------------------------------\n",
      "confOf.owl ekaw.owl\n",
      "Loading o1\n",
      "Loading o2\n",
      "0\n",
      "ontology iterations: 1584, (0, 0, 0.0), aligns: 0, po1: 36, po2: 22\n",
      "----------------------------------------------------------------------------------------------------\n",
      "edas.owl ekaw.owl\n",
      "Loading o1\n",
      "Loading o2\n",
      "4\n",
      "ontology iterations: 2200, (1.0, 0.5, 0.6666666666666666), aligns: 4, po1: 50, po2: 22\n",
      "----------------------------------------------------------------------------------------------------\n",
      "confOf.owl iasted.owl\n",
      "Loading o1\n",
      "Loading o2\n",
      "0\n",
      "ontology iterations: 2952, (0, 0, 0.0), aligns: 0, po1: 36, po2: 41\n",
      "----------------------------------------------------------------------------------------------------\n",
      "Conference.owl ekaw.owl\n",
      "Loading o1\n",
      "Loading o2\n",
      "2\n",
      "ontology iterations: 2816, (0, 0.0, 0.0), aligns: 2, po1: 64, po2: 22\n",
      "----------------------------------------------------------------------------------------------------\n",
      "cmt.owl ekaw.owl\n",
      "Loading o1\n",
      "Loading o2\n",
      "3\n",
      "ontology iterations: 2596, (1.0, 1.0, 1.0), aligns: 3, po1: 59, po2: 22\n",
      "----------------------------------------------------------------------------------------------------\n",
      "edas.owl iasted.owl\n",
      "Loading o1\n",
      "Loading o2\n",
      "0\n",
      "ontology iterations: 4100, (0, 0, 0.0), aligns: 0, po1: 50, po2: 41\n",
      "----------------------------------------------------------------------------------------------------\n",
      "edas.owl sigkdd.owl\n",
      "Loading o1\n",
      "Loading o2\n",
      "4\n",
      "ontology iterations: 2600, (0.6666666666666666, 0.5, 0.5714285714285715), aligns: 4, po1: 50, po2: 26\n",
      "----------------------------------------------------------------------------------------------------\n",
      "cmt.owl confOf.owl\n",
      "Loading o1\n",
      "Loading o2\n",
      "6\n",
      "ontology iterations: 4248, (1.0, 0.6666666666666666, 0.8), aligns: 6, po1: 59, po2: 36\n",
      "----------------------------------------------------------------------------------------------------\n",
      "confOf.owl sigkdd.owl\n",
      "Loading o1\n",
      "Loading o2\n",
      "1\n",
      "ontology iterations: 1872, (0.5, 1.0, 0.6666666666666666), aligns: 1, po1: 36, po2: 26\n",
      "----------------------------------------------------------------------------------------------------\n",
      "ekaw.owl sigkdd.owl\n",
      "Loading o1\n",
      "Loading o2\n",
      "0\n",
      "ontology iterations: 1144, (0, 0, 0.0), aligns: 0, po1: 22, po2: 26\n",
      "----------------------------------------------------------------------------------------------------\n",
      "cmt.owl sigkdd.owl\n",
      "Loading o1\n",
      "Loading o2\n",
      "2\n",
      "ontology iterations: 3068, (0.6666666666666666, 1.0, 0.8), aligns: 2, po1: 59, po2: 26\n",
      "----------------------------------------------------------------------------------------------------\n",
      "Conference.owl edas.owl\n",
      "Loading o1\n",
      "Loading o2\n",
      "3\n",
      "ontology iterations: 6400, (0.6666666666666666, 0.6666666666666666, 0.6666666666666666), aligns: 3, po1: 64, po2: 50\n",
      "----------------------------------------------------------------------------------------------------\n",
      "cmt.owl edas.owl\n",
      "Loading o1\n",
      "Loading o2\n",
      "5\n",
      "ontology iterations: 5900, (0.5, 0.2, 0.28571428571428575), aligns: 5, po1: 59, po2: 50\n",
      "----------------------------------------------------------------------------------------------------\n",
      "iasted.owl sigkdd.owl\n",
      "Loading o1\n",
      "Loading o2\n",
      "0\n",
      "ontology iterations: 2132, (0, 0, 0.0), aligns: 0, po1: 41, po2: 26\n",
      "----------------------------------------------------------------------------------------------------\n",
      "Conference.owl sigkdd.owl\n",
      "Loading o1\n",
      "Loading o2\n",
      "3\n",
      "ontology iterations: 3328, (0.5, 0.3333333333333333, 0.4), aligns: 3, po1: 64, po2: 26\n",
      "----------------------------------------------------------------------------------------------------\n",
      "confOf.owl edas.owl\n",
      "Loading o1\n",
      "Loading o2\n",
      "5\n",
      "ontology iterations: 3600, (1.0, 0.6, 0.7499999999999999), aligns: 5, po1: 36, po2: 50\n",
      "----------------------------------------------------------------------------------------------------\n",
      "Conference.owl confOf.owl\n",
      "Loading o1\n",
      "Loading o2\n",
      "4\n",
      "ontology iterations: 4608, (1.0, 0.5, 0.6666666666666666), aligns: 4, po1: 64, po2: 36\n",
      "iterations: 74590, (0.6857142857142857, 0.5217391304347826, 0.5925925925925927)\n"
     ]
    }
   ],
   "source": [
    "results = property_matcher.match('/home/guilherme/Documents/kg/conference', '/home/guilherme/Documents/kg/reference', th=0.65)"
   ]
  },
  {
   "cell_type": "code",
   "execution_count": 1,
   "metadata": {
    "ExecuteTime": {
     "end_time": "2023-05-04T23:13:14.075532740Z",
     "start_time": "2023-05-04T23:13:13.788604059Z"
    }
   },
   "outputs": [
    {
     "ename": "NameError",
     "evalue": "name 'results' is not defined",
     "output_type": "error",
     "traceback": [
      "\u001B[0;31m---------------------------------------------------------------------------\u001B[0m",
      "\u001B[0;31mNameError\u001B[0m                                 Traceback (most recent call last)",
      "Cell \u001B[0;32mIn[1], line 1\u001B[0m\n\u001B[0;32m----> 1\u001B[0m p, r, f \u001B[38;5;241m=\u001B[39m \u001B[38;5;28mzip\u001B[39m(\u001B[38;5;241m*\u001B[39m\u001B[43mresults\u001B[49m)\n\u001B[1;32m      3\u001B[0m x \u001B[38;5;241m=\u001B[39m np\u001B[38;5;241m.\u001B[39marange(\u001B[38;5;241m0.0\u001B[39m, \u001B[38;5;241m1\u001B[39m, \u001B[38;5;241m0.01\u001B[39m)\n\u001B[1;32m      5\u001B[0m plt\u001B[38;5;241m.\u001B[39mplot(x, p, label\u001B[38;5;241m=\u001B[39m\u001B[38;5;124m\"\u001B[39m\u001B[38;5;124mprecision\u001B[39m\u001B[38;5;124m\"\u001B[39m)\n",
      "\u001B[0;31mNameError\u001B[0m: name 'results' is not defined"
     ]
    }
   ],
   "source": [
    "p, r, f = zip(*results)\n",
    "\n",
    "x = np.arange(0.0, 1, 0.01)\n",
    "\n",
    "plt.plot(x, p, label=\"precision\")\n",
    "plt.plot(x, r, label=\"recall\")\n",
    "plt.plot(x, f, label=\"f-measure\")\n",
    "\n",
    "# draw vertical line in the x position containing the threshold that have the max f-measure\n",
    "plt.axvline(x[np.argmax(f)], color='black', linestyle='--', label=\"best threshold\")\n",
    "\n",
    "plt.legend()\n",
    "plt.show()"
   ]
  },
  {
   "cell_type": "code",
   "execution_count": 14,
   "metadata": {
    "ExecuteTime": {
     "end_time": "2023-05-04T23:12:44.231457768Z",
     "start_time": "2023-05-04T23:11:23.648701431Z"
    }
   },
   "outputs": [
    {
     "data": {
      "application/vnd.jupyter.widget-view+json": {
       "model_id": "12bbea0a8f6f4e3692dc826bc2ead8ec",
       "version_major": 2,
       "version_minor": 0
      },
      "text/plain": [
       "  0%|          | 0/5 [00:00<?, ?it/s]"
      ]
     },
     "metadata": {},
     "output_type": "display_data"
    },
    {
     "name": "stdout",
     "output_type": "stream",
     "text": [
      "----------------------------------------------------------------------------------------------------\n",
      "starwars.xml swtor.xml\n",
      "Loading o1\n",
      "Loading o2\n",
      "56\n",
      "ontology iterations: 256166, (0.4909090909090909, 0.9642857142857143, 0.6506024096385543), aligns: 56, po1: 698, po2: 367\n",
      "----------------------------------------------------------------------------------------------------\n",
      "memoryalpha.xml stexpand.xml\n",
      "Loading o1\n",
      "Loading o2\n",
      "40\n",
      "ontology iterations: 63112, (0.5342465753424658, 0.975, 0.6902654867256637), aligns: 40, po1: 322, po2: 196\n",
      "----------------------------------------------------------------------------------------------------\n",
      "starwars.xml swg.xml\n",
      "Loading o1\n",
      "Loading o2\n",
      "20\n",
      "ontology iterations: 102606, (0.4444444444444444, 1.0, 0.6153846153846153), aligns: 20, po1: 698, po2: 147\n",
      "----------------------------------------------------------------------------------------------------\n",
      "mcu.xml marvel.xml\n",
      "Loading o1\n",
      "Loading o2\n",
      "11\n",
      "ontology iterations: 19865, (0.6470588235294118, 1.0, 0.7857142857142858), aligns: 11, po1: 145, po2: 137\n",
      "----------------------------------------------------------------------------------------------------\n",
      "memoryalpha.xml memorybeta.xml\n",
      "Loading o1\n",
      "Loading o2\n",
      "53\n",
      "ontology iterations: 133630, (0.5104166666666666, 0.9245283018867925, 0.6577181208053692), aligns: 53, po1: 322, po2: 415\n",
      "iterations: 575379, (0.5073313782991202, 0.9611111111111111, 0.6641074856046065)\n"
     ]
    }
   ],
   "source": [
    "\n",
    "\n",
    "results = property_matcher.match('/home/guilherme/Documents/kg/knowledge', '/home/guilherme/Documents/kg/know-reference',\n",
    "                       th=0.969, process_strategy=most_common_pair, steps=1, disable_dr=True)"
   ]
  },
  {
   "cell_type": "code",
   "execution_count": 7,
   "metadata": {},
   "outputs": [
    {
     "name": "stdout",
     "output_type": "stream",
     "text": [
      "0.9699999999999995\n"
     ]
    },
    {
     "data": {
      "image/png": "[encoded data removed]",
      "text/plain": [
       "<Figure size 640x480 with 1 Axes>"
      ]
     },
     "metadata": {},
     "output_type": "display_data"
    }
   ],
   "source": [
    "p, r, f = zip(*results)\n",
    "\n",
    "x = np.arange(0.1, 1, 0.01)\n",
    "\n",
    "plt.plot(x, p, label=\"precision\")\n",
    "plt.plot(x, r, label=\"recall\")\n",
    "plt.plot(x, f, label=\"f-measure\")\n",
    "\n",
    "# draw vertical line in the x position containing the threshold that have the max f-measure\n",
    "plt.axvline(x[np.argmax(f)], color='black', linestyle='--', label=\"best threshold\")\n",
    "print(x[np.argmax(f)])\n",
    "plt.legend()\n",
    "plt.show()"
   ]
  },
  {
   "cell_type": "code",
   "execution_count": 3,
   "metadata": {},
   "outputs": [
    {
     "data": {
      "application/vnd.jupyter.widget-view+json": {
       "model_id": "886ab629604e4d918f61b2392249c4a9",
       "version_major": 2,
       "version_minor": 0
      },
      "text/plain": [
       "  0%|          | 0/5 [00:00<?, ?it/s]"
      ]
     },
     "metadata": {},
     "output_type": "display_data"
    },
    {
     "name": "stdout",
     "output_type": "stream",
     "text": [
      "----------------------------------------------------------------------------------------------------\n",
      "starwars.xml swtor.xml\n",
      "Loading o1\n",
      "Loading o2\n",
      "56\n",
      "ontology iterations: 256166, (0.4074074074074074, 0.19642857142857142, 0.2650602409638554), aligns: 56, po1: 698, po2: 367\n",
      "----------------------------------------------------------------------------------------------------\n",
      "memoryalpha.xml stexpand.xml\n",
      "Loading o1\n",
      "Loading o2\n",
      "40\n",
      "ontology iterations: 63112, (0.7307692307692307, 0.475, 0.5757575757575758), aligns: 40, po1: 322, po2: 196\n",
      "----------------------------------------------------------------------------------------------------\n",
      "starwars.xml swg.xml\n",
      "Loading o1\n",
      "Loading o2\n",
      "20\n",
      "ontology iterations: 102606, (0.5625, 0.45, 0.5), aligns: 20, po1: 698, po2: 147\n",
      "----------------------------------------------------------------------------------------------------\n",
      "mcu.xml marvel.xml\n",
      "Loading o1\n",
      "Loading o2\n",
      "11\n",
      "ontology iterations: 19865, (0.0, 0.0, 0.0), aligns: 11, po1: 145, po2: 137\n",
      "----------------------------------------------------------------------------------------------------\n",
      "memoryalpha.xml memorybeta.xml\n",
      "Loading o1\n",
      "Loading o2\n",
      "53\n",
      "ontology iterations: 133630, (0.6296296296296297, 0.32075471698113206, 0.425), aligns: 53, po1: 322, po2: 415\n",
      "iterations: 575379, (0.13930348258706468, 0.4666666666666667, 0.21455938697318008)\n"
     ]
    }
   ],
   "source": [
    "\n",
    "\n",
    "results = property_matcher.match('/home/guilherme/Documents/kg/knowledge', '/home/guilherme/Documents/kg/know-reference',\n",
    "                       th=0.1, process_strategy=most_common_pair, steps=1, sim_weights=[0, 1], tr=[0.969])"
   ]
  },
  {
   "cell_type": "code",
   "execution_count": null,
   "metadata": {},
   "outputs": [],
   "source": [
    "p, r, f = zip(*results)\n",
    "\n",
    "x = np.arange(0.1, 1, 0.01)\n",
    "\n",
    "plt.plot(x, p, label=\"precision\")\n",
    "plt.plot(x, r, label=\"recall\")\n",
    "plt.plot(x, f, label=\"f-measure\")\n",
    "\n",
    "# draw vertical line in the x position containing the threshold that have the max f-measure\n",
    "plt.axvline(x[np.argmax(f)], color='black', linestyle='--', label=\"best threshold\")\n",
    "print(x[np.argmax(f)])\n",
    "plt.legend()\n",
    "plt.show()"
   ]
  },
  {
   "cell_type": "code",
   "execution_count": 16,
   "metadata": {},
   "outputs": [
    {
     "data": {
      "application/vnd.jupyter.widget-view+json": {
       "model_id": "5e5c01c80eea4e999e448aa61934fffc",
       "version_major": 2,
       "version_minor": 0
      },
      "text/plain": [
       "  0%|          | 0/5 [00:00<?, ?it/s]"
      ]
     },
     "metadata": {},
     "output_type": "display_data"
    },
    {
     "name": "stdout",
     "output_type": "stream",
     "text": [
      "----------------------------------------------------------------------------------------------------\n",
      "starwars.xml swtor.xml\n",
      "Loading o1\n",
      "Loading o2\n",
      "56\n",
      "ontology iterations: 256166, (0.4594594594594595, 0.30357142857142855, 0.3655913978494624), aligns: 56, po1: 698, po2: 367\n",
      "----------------------------------------------------------------------------------------------------\n",
      "memoryalpha.xml stexpand.xml\n",
      "Loading o1\n",
      "Loading o2\n",
      "40\n",
      "ontology iterations: 63112, (0.5, 0.25, 0.3333333333333333), aligns: 40, po1: 322, po2: 196\n",
      "----------------------------------------------------------------------------------------------------\n",
      "starwars.xml swg.xml\n",
      "Loading o1\n",
      "Loading o2\n",
      "20\n",
      "ontology iterations: 102606, (0.6470588235294118, 0.55, 0.5945945945945946), aligns: 20, po1: 698, po2: 147\n",
      "----------------------------------------------------------------------------------------------------\n",
      "mcu.xml marvel.xml\n",
      "Loading o1\n",
      "Loading o2\n",
      "11\n",
      "ontology iterations: 19865, (0.7142857142857143, 0.45454545454545453, 0.5555555555555556), aligns: 11, po1: 145, po2: 137\n",
      "----------------------------------------------------------------------------------------------------\n",
      "memoryalpha.xml memorybeta.xml\n",
      "Loading o1\n",
      "Loading o2\n",
      "53\n",
      "ontology iterations: 133630, (0.4, 0.22641509433962265, 0.2891566265060241), aligns: 53, po1: 322, po2: 415\n",
      "iterations: 575379, (0.4954954954954955, 0.3055555555555556, 0.37800687285223367)\n"
     ]
    }
   ],
   "source": [
    "\n",
    "\n",
    "results = property_matcher.match('/home/guilherme/Documents/kg/knowledge', '/home/guilherme/Documents/kg/know-reference',\n",
    "                       th=0.979, process_strategy=most_common_pair, steps=1, sim_weights=[1, 2])"
   ]
  },
  {
   "cell_type": "code",
   "execution_count": 11,
   "metadata": {},
   "outputs": [
    {
     "name": "stdout",
     "output_type": "stream",
     "text": [
      "0.9799999999999995\n"
     ]
    },
    {
     "data": {
      "image/png": "[encoded data removed]",
      "text/plain": [
       "<Figure size 640x480 with 1 Axes>"
      ]
     },
     "metadata": {},
     "output_type": "display_data"
    }
   ],
   "source": [
    "p, r, f = zip(*results)\n",
    "\n",
    "x = np.arange(0.1, 1, 0.01)\n",
    "\n",
    "plt.plot(x, p, label=\"precision\")\n",
    "plt.plot(x, r, label=\"recall\")\n",
    "plt.plot(x, f, label=\"f-measure\")\n",
    "\n",
    "# draw vertical line in the x position containing the threshold that have the max f-measure\n",
    "plt.axvline(x[np.argmax(f)], color='black', linestyle='--', label=\"best threshold\")\n",
    "print(x[np.argmax(f)])\n",
    "plt.legend()\n",
    "plt.show()"
   ]
  },
  {
   "cell_type": "code",
   "execution_count": 17,
   "metadata": {},
   "outputs": [
    {
     "data": {
      "application/vnd.jupyter.widget-view+json": {
       "model_id": "56efc7b80a05491da1aba331b779bc1c",
       "version_major": 2,
       "version_minor": 0
      },
      "text/plain": [
       "  0%|          | 0/5 [00:00<?, ?it/s]"
      ]
     },
     "metadata": {},
     "output_type": "display_data"
    },
    {
     "name": "stdout",
     "output_type": "stream",
     "text": [
      "----------------------------------------------------------------------------------------------------\n",
      "starwars.xml swtor.xml\n",
      "Loading o1\n",
      "Loading o2\n",
      "56\n",
      "ontology iterations: 256166, (0.1834862385321101, 0.35714285714285715, 0.2424242424242424), aligns: 56, po1: 698, po2: 367\n",
      "----------------------------------------------------------------------------------------------------\n",
      "memoryalpha.xml stexpand.xml\n",
      "Loading o1\n",
      "Loading o2\n",
      "40\n",
      "ontology iterations: 63112, (0.15384615384615385, 0.25, 0.1904761904761905), aligns: 40, po1: 322, po2: 196\n",
      "----------------------------------------------------------------------------------------------------\n",
      "starwars.xml swg.xml\n",
      "Loading o1\n",
      "Loading o2\n",
      "20\n",
      "ontology iterations: 102606, (0.1276595744680851, 0.3, 0.17910447761194026), aligns: 20, po1: 698, po2: 147\n",
      "----------------------------------------------------------------------------------------------------\n",
      "mcu.xml marvel.xml\n",
      "Loading o1\n",
      "Loading o2\n",
      "11\n",
      "ontology iterations: 19865, (0.08333333333333333, 0.18181818181818182, 0.1142857142857143), aligns: 11, po1: 145, po2: 137\n",
      "----------------------------------------------------------------------------------------------------\n",
      "memoryalpha.xml memorybeta.xml\n",
      "Loading o1\n",
      "Loading o2\n",
      "53\n",
      "ontology iterations: 133630, (0.16666666666666666, 0.3584905660377358, 0.2275449101796407), aligns: 53, po1: 322, po2: 415\n",
      "iterations: 575379, (0.15877437325905291, 0.31666666666666665, 0.21150278293135436)\n"
     ]
    }
   ],
   "source": [
    "\n",
    "\n",
    "results = property_matcher.match('/home/guilherme/Documents/kg/knowledge', '/home/guilherme/Documents/kg/know-reference',\n",
    "                       th=0.569, process_strategy=most_common_pair, steps=1, sim_weights=[0, 1, 2])"
   ]
  },
  {
   "cell_type": "code",
   "execution_count": 13,
   "metadata": {},
   "outputs": [
    {
     "name": "stdout",
     "output_type": "stream",
     "text": [
      "0.5699999999999997\n"
     ]
    },
    {
     "data": {
      "image/png": "[encoded data removed]",
      "text/plain": [
       "<Figure size 640x480 with 1 Axes>"
      ]
     },
     "metadata": {},
     "output_type": "display_data"
    }
   ],
   "source": [
    "p, r, f = zip(*results)\n",
    "\n",
    "x = np.arange(0.1, 1, 0.01)\n",
    "\n",
    "plt.plot(x, p, label=\"precision\")\n",
    "plt.plot(x, r, label=\"recall\")\n",
    "plt.plot(x, f, label=\"f-measure\")\n",
    "\n",
    "# draw vertical line in the x position containing the threshold that have the max f-measure\n",
    "plt.axvline(x[np.argmax(f)], color='black', linestyle='--', label=\"best threshold\")\n",
    "print(x[np.argmax(f)])\n",
    "plt.legend()\n",
    "plt.show()"
   ]
  },
  {
   "cell_type": "code",
   "execution_count": null,
   "metadata": {},
   "outputs": [],
   "source": []
  }
 ],
 "metadata": {
  "kernelspec": {
   "display_name": "Python 3 (ipykernel)",
   "language": "python",
   "name": "python3"
  },
  "language_info": {
   "codemirror_mode": {
    "name": "ipython",
    "version": 3
   },
   "file_extension": ".py",
   "mimetype": "text/x-python",
   "name": "python",
   "nbconvert_exporter": "python",
   "pygments_lexer": "ipython3",
   "version": "3.8.16"
  }
 },
 "nbformat": 4,
 "nbformat_minor": 1
}
